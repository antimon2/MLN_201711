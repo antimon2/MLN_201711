{
 "cells": [
  {
   "cell_type": "markdown",
   "metadata": {},
   "source": [
    "refer-to: https://www.tensorflow.org/get_started/tensorboard_histograms  \n",
    "original: https://github.com/tensorflow/tensorboard/blob/master/tensorboard/plugins/histogram/histograms_demo.py"
   ]
  },
  {
   "cell_type": "code",
   "execution_count": null,
   "metadata": {
    "collapsed": true
   },
   "outputs": [],
   "source": [
    "import tensorflow as tf\n",
    "import os"
   ]
  },
  {
   "cell_type": "code",
   "execution_count": null,
   "metadata": {
    "collapsed": true
   },
   "outputs": [],
   "source": [
    "from tensorboard.plugins.histogram import summary as histogram_summary"
   ]
  },
  {
   "cell_type": "code",
   "execution_count": null,
   "metadata": {
    "collapsed": true
   },
   "outputs": [],
   "source": [
    "# LOG_DIR = '/tmp/histograms_demo'\n",
    "CUR_DIR = os.path.abspath(os.path.curdir)\n",
    "LOG_DIR = os.path.join(CUR_DIR, 'histograms_demo')"
   ]
  },
  {
   "cell_type": "code",
   "execution_count": null,
   "metadata": {
    "collapsed": true
   },
   "outputs": [],
   "source": [
    "tf.set_random_seed(0)\n",
    "k = tf.placeholder(tf.float32)"
   ]
  },
  {
   "cell_type": "code",
   "execution_count": null,
   "metadata": {},
   "outputs": [],
   "source": [
    "# Make a normal distribution, with a shifting mean\n",
    "mean_moving_normal = tf.random_normal(shape=[1000], mean=(5*k), stddev=1)\n",
    "# Record that distribution into a histogram summary\n",
    "histogram_summary.op(\"normal/moving_mean\",\n",
    "                     mean_moving_normal,\n",
    "                     description=\"時間とともに平均が変化する正規分布。\")"
   ]
  },
  {
   "cell_type": "code",
   "execution_count": null,
   "metadata": {},
   "outputs": [],
   "source": [
    "# Make a normal distribution with shrinking variance\n",
    "shrinking_normal = tf.random_normal(shape=[1000], mean=0, stddev=1-(k))\n",
    "# Record that distribution too\n",
    "histogram_summary.op(\"normal/shrinking_variance\", shrinking_normal,\n",
    "                     description=\"分散が時間とともに縮小する正規分布。\")"
   ]
  },
  {
   "cell_type": "code",
   "execution_count": null,
   "metadata": {},
   "outputs": [],
   "source": [
    "# Let's combine both of those distributions into one dataset\n",
    "normal_combined = tf.concat([mean_moving_normal, shrinking_normal], 0)\n",
    "# We add another histogram summary to record the combined distribution\n",
    "histogram_summary.op(\"normal/bimodal\", normal_combined,\n",
    "                     description=\"2つの正規分布の組み合わせ、1つは移動平均を持ち、もう1つは分散が縮小していくもの。\"\n",
    "                                 \"結果としては、unimodal で始まり、時間と共にだんだん bimodal になる分布。\")"
   ]
  },
  {
   "cell_type": "code",
   "execution_count": null,
   "metadata": {},
   "outputs": [],
   "source": [
    "# Add a gamma distribution\n",
    "gamma = tf.random_gamma(shape=[1000], alpha=k)\n",
    "histogram_summary.op(\"gamma\", gamma,\n",
    "                     description=\"形状パラメータαが経時的に変化するガンマ分布。\")"
   ]
  },
  {
   "cell_type": "code",
   "execution_count": null,
   "metadata": {},
   "outputs": [],
   "source": [
    "# And a poisson distribution\n",
    "poisson = tf.random_poisson(shape=[1000], lam=k)\n",
    "histogram_summary.op(\"poisson\", poisson,\n",
    "                     description=\"整数値のみをとるポアソン分布。\")"
   ]
  },
  {
   "cell_type": "code",
   "execution_count": null,
   "metadata": {},
   "outputs": [],
   "source": [
    "# And a uniform distribution\n",
    "uniform = tf.random_uniform(shape=[1000], maxval=k*10)\n",
    "histogram_summary.op(\"uniform\", uniform,\n",
    "                     description=\"シンプルな一様分布。\")"
   ]
  },
  {
   "cell_type": "code",
   "execution_count": null,
   "metadata": {},
   "outputs": [],
   "source": [
    "# Finally, combine everything together!\n",
    "all_distributions = [mean_moving_normal, shrinking_normal,\n",
    "                     gamma, poisson, uniform]\n",
    "all_combined = tf.concat(all_distributions, 0)\n",
    "histogram_summary.op(\"all_combined\", all_combined,\n",
    "                     description=\"5つの分布の融合：一様分布、ガンマ分布、ポアソン分布、二つの正規分布。\")"
   ]
  },
  {
   "cell_type": "code",
   "execution_count": null,
   "metadata": {
    "collapsed": true
   },
   "outputs": [],
   "source": [
    "summaries = tf.summary.merge_all()"
   ]
  },
  {
   "cell_type": "code",
   "execution_count": null,
   "metadata": {},
   "outputs": [],
   "source": [
    "# Setup a session and summary writer\n",
    "# sess = tf.Session()\n",
    "sess = tf.InteractiveSession()\n",
    "writer = tf.summary.FileWriter(LOG_DIR)"
   ]
  },
  {
   "cell_type": "code",
   "execution_count": null,
   "metadata": {
    "collapsed": true
   },
   "outputs": [],
   "source": [
    "# Setup a loop and write the summaries to disk\n",
    "N = 400\n",
    "for step in range(N):\n",
    "    k_val = step/float(N)\n",
    "    summ = sess.run(summaries, feed_dict={k: k_val})\n",
    "    writer.add_summary(summ, global_step=step)"
   ]
  },
  {
   "cell_type": "code",
   "execution_count": null,
   "metadata": {
    "collapsed": true
   },
   "outputs": [],
   "source": [
    "writer.close()"
   ]
  },
  {
   "cell_type": "markdown",
   "metadata": {},
   "source": [
    "run: `tensorboard --logdir=$(pwd)/histograms_demo`  \n",
    "( or run: `./run_tensorboard_histogram_demo.sh` )"
   ]
  }
 ],
 "metadata": {
  "kernelspec": {
   "display_name": "Python 3",
   "language": "python",
   "name": "python3"
  },
  "language_info": {
   "codemirror_mode": {
    "name": "ipython",
    "version": 3
   },
   "file_extension": ".py",
   "mimetype": "text/x-python",
   "name": "python",
   "nbconvert_exporter": "python",
   "pygments_lexer": "ipython3",
   "version": "3.5.2"
  }
 },
 "nbformat": 4,
 "nbformat_minor": 2
}

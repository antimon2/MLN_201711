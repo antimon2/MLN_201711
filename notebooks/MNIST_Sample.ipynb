{
 "cells": [
  {
   "cell_type": "markdown",
   "metadata": {},
   "source": [
    "# MNIST with Summaries"
   ]
  },
  {
   "cell_type": "markdown",
   "metadata": {},
   "source": [
    "original: https://github.com/normanheckscher/mnist-tensorboard-embeddings/blob/master/mnist_with_summaries.py  \n",
    "( also refer-to: https://qiita.com/FukuharaYohei/items/70f702ee85e23b5b1e26 )"
   ]
  },
  {
   "cell_type": "code",
   "execution_count": null,
   "metadata": {
    "ExecuteTime": {
     "end_time": "2017-11-04T23:40:59.629216Z",
     "start_time": "2017-11-04T23:40:58.494297Z"
    },
    "collapsed": true
   },
   "outputs": [],
   "source": [
    "%matplotlib inline\n",
    "import matplotlib.pyplot as plt\n",
    "import tensorflow as tf\n",
    "import numpy as np\n",
    "import os"
   ]
  },
  {
   "cell_type": "code",
   "execution_count": null,
   "metadata": {
    "ExecuteTime": {
     "end_time": "2017-11-04T23:41:07.302430Z",
     "start_time": "2017-11-04T23:41:00.281477Z"
    },
    "collapsed": true
   },
   "outputs": [],
   "source": [
    "from tensorflow.contrib.tensorboard.plugins import projector\n",
    "from tensorflow.examples.tutorials.mnist    import input_data"
   ]
  },
  {
   "cell_type": "markdown",
   "metadata": {},
   "source": [
    "## Constants"
   ]
  },
  {
   "cell_type": "code",
   "execution_count": null,
   "metadata": {
    "ExecuteTime": {
     "end_time": "2017-11-04T23:41:08.167298Z",
     "start_time": "2017-11-04T23:41:08.161774Z"
    },
    "collapsed": true
   },
   "outputs": [],
   "source": [
    "TO_EMBED_COUNT = 1000\n",
    "CUR_DIR = os.path.abspath(os.path.curdir)\n",
    "data_dir = \"MNIST_data\"\n",
    "log_dir = \"mnist_sample\"\n",
    "sprite_image_filename = \"mnist_sprite.png\"\n",
    "\n",
    "max_steps = 1000\n",
    "learning_rate = 0.001"
   ]
  },
  {
   "cell_type": "code",
   "execution_count": null,
   "metadata": {
    "collapsed": true
   },
   "outputs": [],
   "source": [
    "metadata_csv_path = os.path.join(CUR_DIR, log_dir, 'projector', 'metadata.tsv')\n",
    "sprite_image_path = os.path.join(CUR_DIR, log_dir, sprite_image_filename)"
   ]
  },
  {
   "cell_type": "markdown",
   "metadata": {},
   "source": [
    "## Data preparations"
   ]
  },
  {
   "cell_type": "code",
   "execution_count": null,
   "metadata": {
    "ExecuteTime": {
     "end_time": "2017-11-04T23:41:09.600969Z",
     "start_time": "2017-11-04T23:41:08.996112Z"
    }
   },
   "outputs": [],
   "source": [
    "# Import data\n",
    "mnist = input_data.read_data_sets(data_dir, one_hot=True)"
   ]
  },
  {
   "cell_type": "code",
   "execution_count": null,
   "metadata": {
    "ExecuteTime": {
     "end_time": "2017-11-04T23:41:10.890684Z",
     "start_time": "2017-11-04T23:41:10.879656Z"
    },
    "collapsed": true
   },
   "outputs": [],
   "source": [
    "def save_metadata(file, mnist=mnist):\n",
    "    tf.gfile.MakeDirs(os.path.dirname(file))\n",
    "    with open(file, 'w') as f:\n",
    "        # f.write('id\\tchar\\n')\n",
    "        for i in range(TO_EMBED_COUNT):\n",
    "            c = np.nonzero(mnist.test.labels)[1][i]\n",
    "            f.write('{}\\n'.format(c))"
   ]
  },
  {
   "cell_type": "code",
   "execution_count": null,
   "metadata": {
    "ExecuteTime": {
     "end_time": "2017-11-04T23:41:13.254893Z",
     "start_time": "2017-11-04T23:41:12.172767Z"
    },
    "collapsed": true
   },
   "outputs": [],
   "source": [
    "save_metadata(metadata_csv_path)"
   ]
  },
  {
   "cell_type": "code",
   "execution_count": null,
   "metadata": {
    "ExecuteTime": {
     "end_time": "2017-11-04T23:41:15.663797Z",
     "start_time": "2017-11-04T23:41:15.636951Z"
    },
    "collapsed": true
   },
   "outputs": [],
   "source": [
    "def create_sprite_image(images):\n",
    "    \"\"\"Returns a sprite image consisting of images passed as argument. Images should be count x width x height\"\"\"\n",
    "    # MNISTは28ピクセル四方 \n",
    "    img_h = images.shape[1]\n",
    "    img_w = images.shape[2]\n",
    "\n",
    "    # 画像数の平方根(切上)を計算(Sprite Imageの1辺の長さに使用)\n",
    "    n_plots = int(np.ceil(np.sqrt(images.shape[0])))\n",
    "\n",
    "    # 全要素0の配列作成\n",
    "    spriteimage = np.ones((img_h * n_plots ,img_w * n_plots ))\n",
    "\n",
    "    for i in range(n_plots):\n",
    "        for j in range(n_plots):\n",
    "            this_filter = i * n_plots + j\n",
    "\n",
    "            # 画像がある限り実行(n_plotsが割り切れないためSprite Imageは少し余る)\n",
    "            if this_filter < images.shape[0]:\n",
    "\n",
    "                # Sprite Imageの所定の配列に画像を挿入\n",
    "                spriteimage[i * img_h:(i + 1) * img_h, j * img_w:(j + 1) * img_w] = images[this_filter]\n",
    "\n",
    "    return spriteimage"
   ]
  },
  {
   "cell_type": "code",
   "execution_count": null,
   "metadata": {
    "ExecuteTime": {
     "end_time": "2017-11-04T23:41:17.457314Z",
     "start_time": "2017-11-04T23:41:17.445243Z"
    },
    "collapsed": true
   },
   "outputs": [],
   "source": [
    "# Sprite Image生成\n",
    "sprite_image = create_sprite_image(1. - np.reshape(mnist.test.images[:TO_EMBED_COUNT], (-1, 28, 28)))"
   ]
  },
  {
   "cell_type": "code",
   "execution_count": null,
   "metadata": {
    "ExecuteTime": {
     "end_time": "2017-11-04T23:41:57.402868Z",
     "start_time": "2017-11-04T23:41:57.141692Z"
    }
   },
   "outputs": [],
   "source": [
    "# Sprite Image 確認\n",
    "plt.imshow(sprite_image, cmap='gray')"
   ]
  },
  {
   "cell_type": "code",
   "execution_count": null,
   "metadata": {
    "ExecuteTime": {
     "end_time": "2017-11-04T23:41:19.560743Z",
     "start_time": "2017-11-04T23:41:19.256362Z"
    },
    "collapsed": true
   },
   "outputs": [],
   "source": [
    "# Sprite Image保存\n",
    "plt.imsave(sprite_image_path, sprite_image,cmap='gray')"
   ]
  },
  {
   "cell_type": "markdown",
   "metadata": {},
   "source": [
    "## Graph"
   ]
  },
  {
   "cell_type": "code",
   "execution_count": null,
   "metadata": {
    "ExecuteTime": {
     "end_time": "2017-11-04T23:42:24.011429Z",
     "start_time": "2017-11-04T23:42:24.003696Z"
    },
    "collapsed": true
   },
   "outputs": [],
   "source": [
    "# Input placeholders\n",
    "with tf.name_scope('input'):\n",
    "    x = tf.placeholder(tf.float32, [None, 784], name='x-input')\n",
    "    y_ = tf.placeholder(tf.float32, [None, 10], name='y-input')"
   ]
  },
  {
   "cell_type": "code",
   "execution_count": null,
   "metadata": {
    "ExecuteTime": {
     "end_time": "2017-11-04T23:42:27.745318Z",
     "start_time": "2017-11-04T23:42:27.735474Z"
    },
    "collapsed": true
   },
   "outputs": [],
   "source": [
    "## Summary Image\n",
    "with tf.name_scope('input_reshape'):\n",
    "    image_shaped_input = tf.reshape(x, [-1, 28, 28, 1])\n",
    "    tf.summary.image('input', image_shaped_input, 10)"
   ]
  },
  {
   "cell_type": "code",
   "execution_count": null,
   "metadata": {
    "ExecuteTime": {
     "end_time": "2017-11-04T23:42:28.393054Z",
     "start_time": "2017-11-04T23:42:28.386654Z"
    },
    "collapsed": true
   },
   "outputs": [],
   "source": [
    "# We can't initialize these variables to 0 - the network will get stuck.\n",
    "def weight_variable(shape):\n",
    "    \"\"\"Create a weight variable with appropriate initialization.\"\"\"\n",
    "    initial = tf.truncated_normal(shape, stddev=0.1)\n",
    "    return tf.Variable(initial)"
   ]
  },
  {
   "cell_type": "code",
   "execution_count": null,
   "metadata": {
    "ExecuteTime": {
     "end_time": "2017-11-04T23:42:29.028393Z",
     "start_time": "2017-11-04T23:42:29.021328Z"
    },
    "collapsed": true
   },
   "outputs": [],
   "source": [
    "def bias_variable(shape):\n",
    "    \"\"\"Create a bias variable with appropriate initialization.\"\"\"\n",
    "    initial = tf.constant(0.1, shape=shape)\n",
    "    return tf.Variable(initial)"
   ]
  },
  {
   "cell_type": "code",
   "execution_count": null,
   "metadata": {
    "ExecuteTime": {
     "end_time": "2017-11-04T23:42:30.046653Z",
     "start_time": "2017-11-04T23:42:30.034121Z"
    },
    "collapsed": true
   },
   "outputs": [],
   "source": [
    "def variable_summaries(var):\n",
    "    \"\"\"Attach a lot of summaries to a Tensor (for TensorBoard visualization).\"\"\"\n",
    "    with tf.name_scope('summaries'):\n",
    "        mean = tf.reduce_mean(var)\n",
    "        tf.summary.scalar('mean', mean)\n",
    "        with tf.name_scope('stddev'):\n",
    "            stddev = tf.sqrt(tf.reduce_mean(tf.square(var - mean)))\n",
    "        tf.summary.scalar('stddev', stddev)\n",
    "        tf.summary.scalar('max', tf.reduce_max(var))\n",
    "        tf.summary.scalar('min', tf.reduce_min(var))\n",
    "        tf.summary.histogram('histogram', var)"
   ]
  },
  {
   "cell_type": "code",
   "execution_count": null,
   "metadata": {
    "ExecuteTime": {
     "end_time": "2017-11-04T23:42:30.778186Z",
     "start_time": "2017-11-04T23:42:30.754024Z"
    },
    "collapsed": true
   },
   "outputs": [],
   "source": [
    "def nn_layer(input_tensor, input_dim, output_dim, layer_name, act=tf.nn.relu):\n",
    "    \"\"\"Reusable code for making a simple neural net layer.\n",
    "    It does a matrix multiply, bias add, and then uses relu to nonlinearize.\n",
    "    It also sets up name scoping so that the resultant graph is easy to read,\n",
    "    and adds a number of summary ops.\n",
    "    \"\"\"\n",
    "    # Adding a name scope ensures logical grouping of the layers in the graph.\n",
    "    with tf.name_scope(layer_name):\n",
    "        # This Variable will hold the state of the weights for the layer\n",
    "        with tf.name_scope('weights'):\n",
    "            weights = weight_variable([input_dim, output_dim])\n",
    "            variable_summaries(weights)\n",
    "        with tf.name_scope('biases'):\n",
    "            biases = bias_variable([output_dim])\n",
    "            variable_summaries(biases)\n",
    "        with tf.name_scope('Wx_plus_b'):\n",
    "            preactivate = tf.matmul(input_tensor, weights) + biases\n",
    "            tf.summary.histogram('pre_activations', preactivate)\n",
    "        activations = act(preactivate, name='activation')\n",
    "        tf.summary.histogram('activations', activations)\n",
    "        return activations"
   ]
  },
  {
   "cell_type": "code",
   "execution_count": null,
   "metadata": {
    "ExecuteTime": {
     "end_time": "2017-11-04T23:42:31.697011Z",
     "start_time": "2017-11-04T23:42:31.591957Z"
    },
    "collapsed": true
   },
   "outputs": [],
   "source": [
    "hidden1 = nn_layer(x, 784, 500, 'layer1')"
   ]
  },
  {
   "cell_type": "code",
   "execution_count": null,
   "metadata": {
    "ExecuteTime": {
     "end_time": "2017-11-04T23:42:32.325227Z",
     "start_time": "2017-11-04T23:42:32.304685Z"
    },
    "collapsed": true
   },
   "outputs": [],
   "source": [
    "with tf.name_scope('dropout'):\n",
    "    keep_prob = tf.placeholder(tf.float32)\n",
    "    tf.summary.scalar('dropout_keep_probability', keep_prob)\n",
    "    dropped = tf.nn.dropout(hidden1, keep_prob)"
   ]
  },
  {
   "cell_type": "code",
   "execution_count": null,
   "metadata": {
    "ExecuteTime": {
     "end_time": "2017-11-04T23:42:33.171752Z",
     "start_time": "2017-11-04T23:42:33.057543Z"
    },
    "collapsed": true
   },
   "outputs": [],
   "source": [
    "# Do not apply softmax activation yet, see below.\n",
    "y = nn_layer(dropped, 500, 10, 'layer2', act=tf.identity)"
   ]
  },
  {
   "cell_type": "code",
   "execution_count": null,
   "metadata": {
    "ExecuteTime": {
     "end_time": "2017-11-04T23:42:33.670095Z",
     "start_time": "2017-11-04T23:42:33.607116Z"
    },
    "collapsed": true
   },
   "outputs": [],
   "source": [
    "with tf.name_scope('cross_entropy'):\n",
    "    diff = tf.nn.softmax_cross_entropy_with_logits(logits=y, labels=y_)\n",
    "    with tf.name_scope('total'):\n",
    "        cross_entropy = tf.reduce_mean(diff)"
   ]
  },
  {
   "cell_type": "code",
   "execution_count": null,
   "metadata": {
    "ExecuteTime": {
     "end_time": "2017-11-04T23:42:34.577103Z",
     "start_time": "2017-11-04T23:42:34.571173Z"
    }
   },
   "outputs": [],
   "source": [
    "tf.summary.scalar('cross_entropy', cross_entropy)"
   ]
  },
  {
   "cell_type": "code",
   "execution_count": null,
   "metadata": {
    "ExecuteTime": {
     "end_time": "2017-11-04T23:42:35.599927Z",
     "start_time": "2017-11-04T23:42:35.369316Z"
    },
    "collapsed": true
   },
   "outputs": [],
   "source": [
    "with tf.name_scope('train'):\n",
    "    train_step = tf.train.AdamOptimizer(learning_rate).minimize(cross_entropy)"
   ]
  },
  {
   "cell_type": "code",
   "execution_count": null,
   "metadata": {
    "ExecuteTime": {
     "end_time": "2017-11-04T23:42:36.270969Z",
     "start_time": "2017-11-04T23:42:36.244485Z"
    }
   },
   "outputs": [],
   "source": [
    "with tf.name_scope('accuracy'):\n",
    "    with tf.name_scope('correct_prediction'):\n",
    "        correct_prediction = tf.equal(tf.argmax(y, 1), tf.argmax(y_, 1))\n",
    "    with tf.name_scope('accuracy'):\n",
    "        accuracy = tf.reduce_mean(tf.cast(correct_prediction, tf.float32))\n",
    "tf.summary.scalar('accuracy', accuracy)"
   ]
  },
  {
   "cell_type": "markdown",
   "metadata": {},
   "source": [
    "## for Embeddings (Projector)"
   ]
  },
  {
   "cell_type": "code",
   "execution_count": null,
   "metadata": {
    "ExecuteTime": {
     "end_time": "2017-11-04T23:42:25.484836Z",
     "start_time": "2017-11-04T23:42:25.471881Z"
    },
    "collapsed": true
   },
   "outputs": [],
   "source": [
    "# Input set for Embedded TensorBoard visualization\n",
    "# Performed with cpu to conserve memory and processing power\n",
    "with tf.device(\"/cpu:0\"):\n",
    "    embedding1 = tf.Variable(tf.stack(mnist.test.images[:TO_EMBED_COUNT], axis=0), trainable=False, name='embedding1')\n",
    "    embedding2 = tf.Variable(np.zeros((TO_EMBED_COUNT, 500)), trainable=False, dtype=tf.float32, name='embedding2')\n",
    "    assign_embedding2 = tf.assign(embedding2, hidden1)\n",
    "    embedding3 = tf.Variable(np.zeros((TO_EMBED_COUNT, 10)), trainable=False, dtype=tf.float32, name='embedding3')\n",
    "    assign_embedding3 = tf.assign(embedding3, y)"
   ]
  },
  {
   "cell_type": "markdown",
   "metadata": {},
   "source": [
    "## Initializations"
   ]
  },
  {
   "cell_type": "code",
   "execution_count": null,
   "metadata": {
    "ExecuteTime": {
     "end_time": "2017-11-04T23:42:36.902390Z",
     "start_time": "2017-11-04T23:42:36.896228Z"
    },
    "collapsed": true
   },
   "outputs": [],
   "source": [
    "initialize_op = tf.global_variables_initializer()"
   ]
  },
  {
   "cell_type": "code",
   "execution_count": null,
   "metadata": {
    "ExecuteTime": {
     "end_time": "2017-11-04T23:42:37.438856Z",
     "start_time": "2017-11-04T23:42:37.435329Z"
    },
    "collapsed": true
   },
   "outputs": [],
   "source": [
    "sess = tf.InteractiveSession()"
   ]
  },
  {
   "cell_type": "code",
   "execution_count": null,
   "metadata": {
    "ExecuteTime": {
     "end_time": "2017-11-04T23:42:38.482047Z",
     "start_time": "2017-11-04T23:42:37.932761Z"
    },
    "collapsed": true
   },
   "outputs": [],
   "source": [
    "# Merge all the summaries and write them out to /tmp/mnist_logs (by default)\n",
    "merged = tf.summary.merge_all()\n",
    "train_writer = tf.summary.FileWriter(os.path.join(log_dir, 'train'), sess.graph)\n",
    "test_writer = tf.summary.FileWriter(os.path.join(log_dir, 'test'))"
   ]
  },
  {
   "cell_type": "code",
   "execution_count": null,
   "metadata": {
    "ExecuteTime": {
     "end_time": "2017-11-04T23:42:38.868149Z",
     "start_time": "2017-11-04T23:42:38.606034Z"
    },
    "collapsed": true
   },
   "outputs": [],
   "source": [
    "sess.run(initialize_op)"
   ]
  },
  {
   "cell_type": "code",
   "execution_count": null,
   "metadata": {
    "ExecuteTime": {
     "end_time": "2017-11-04T23:42:39.563203Z",
     "start_time": "2017-11-04T23:42:39.468526Z"
    },
    "collapsed": true
   },
   "outputs": [],
   "source": [
    "saver = tf.train.Saver()"
   ]
  },
  {
   "cell_type": "code",
   "execution_count": null,
   "metadata": {
    "ExecuteTime": {
     "end_time": "2017-11-04T23:42:40.648651Z",
     "start_time": "2017-11-04T23:42:40.039887Z"
    },
    "collapsed": true
   },
   "outputs": [],
   "source": [
    "# Projector 用 SummaryWriter\n",
    "writer = tf.summary.FileWriter(os.path.join(CUR_DIR, log_dir, 'projector'), sess.graph)"
   ]
  },
  {
   "cell_type": "code",
   "execution_count": null,
   "metadata": {
    "ExecuteTime": {
     "end_time": "2017-11-04T23:42:40.664713Z",
     "start_time": "2017-11-04T23:42:40.650468Z"
    },
    "collapsed": true
   },
   "outputs": [],
   "source": [
    "# Add embedding tensorboard visualization.\n",
    "config = projector.ProjectorConfig()\n",
    "for embedding_var in (embedding1, embedding2, embedding3):\n",
    "    # embedding_i\n",
    "    embed = config.embeddings.add()\n",
    "    embed.tensor_name = embedding_var.name\n",
    "    embed.metadata_path = metadata_csv_path\n",
    "    embed.sprite.image_path = sprite_image_path\n",
    "    embed.sprite.single_image_dim.extend([28, 28])\n",
    "projector.visualize_embeddings(writer, config)"
   ]
  },
  {
   "cell_type": "markdown",
   "metadata": {},
   "source": [
    "## Trainings"
   ]
  },
  {
   "cell_type": "markdown",
   "metadata": {},
   "source": [
    "Train the model, and also write summaries.  \n",
    "Every 10th step, measure test-set accuracy, and write test summaries  \n",
    "All other steps, run train_step on training data, & add training summaries"
   ]
  },
  {
   "cell_type": "code",
   "execution_count": null,
   "metadata": {
    "ExecuteTime": {
     "end_time": "2017-11-04T23:42:42.081799Z",
     "start_time": "2017-11-04T23:42:42.073771Z"
    },
    "collapsed": true
   },
   "outputs": [],
   "source": [
    "def feed_dict(train):\n",
    "    \"\"\"Make a TensorFlow feed_dict: maps data onto Tensor placeholders.\"\"\"\n",
    "    if train:\n",
    "        xs, ys = mnist.train.next_batch(100)\n",
    "        k = 0.5\n",
    "    else:\n",
    "        xs, ys = mnist.test.images, mnist.test.labels\n",
    "        k = 1.0\n",
    "    return {x: xs, y_: ys, keep_prob: k}"
   ]
  },
  {
   "cell_type": "code",
   "execution_count": null,
   "metadata": {
    "ExecuteTime": {
     "end_time": "2017-11-04T23:43:58.424411Z",
     "start_time": "2017-11-04T23:42:44.425017Z"
    },
    "scrolled": true
   },
   "outputs": [],
   "source": [
    "for i in range(max_steps):\n",
    "    if i % 10 == 0:  # Record summaries and test-set accuracy\n",
    "        summary, acc = sess.run([merged, accuracy], feed_dict=feed_dict(False))\n",
    "        test_writer.add_summary(summary, i)\n",
    "        print('Accuracy at step %s: %s' % (i, acc))\n",
    "\n",
    "    else:  # Record train set summaries, and train\n",
    "        if i % 100 == 99:  # Record execution stats\n",
    "            run_options = tf.RunOptions(trace_level=tf.RunOptions.FULL_TRACE)\n",
    "            run_metadata = tf.RunMetadata()\n",
    "            summary, _ = sess.run([merged, train_step],\n",
    "                                  feed_dict=feed_dict(True),\n",
    "                                  options=run_options,\n",
    "                                  run_metadata=run_metadata)\n",
    "            train_writer.add_run_metadata(run_metadata, 'step%03d' % i)\n",
    "            train_writer.add_summary(summary, i)\n",
    "\n",
    "            print('Adding run metadata for', i)\n",
    "\n",
    "        else:  # Record a summary\n",
    "            summary, _ = sess.run([merged, train_step], feed_dict=feed_dict(True))\n",
    "            train_writer.add_summary(summary, i)"
   ]
  },
  {
   "cell_type": "markdown",
   "metadata": {},
   "source": [
    "## Embeddings"
   ]
  },
  {
   "cell_type": "code",
   "execution_count": null,
   "metadata": {},
   "outputs": [],
   "source": [
    "sess.run((assign_embedding2, assign_embedding3), \n",
    "         feed_dict={x: mnist.test.images[:TO_EMBED_COUNT],  keep_prob: 1.0})\n",
    "saver.save(sess, os.path.join(log_dir, 'projector', 'a_model.ckpt'), global_step=max_steps)"
   ]
  },
  {
   "cell_type": "markdown",
   "metadata": {},
   "source": [
    "## Termination"
   ]
  },
  {
   "cell_type": "code",
   "execution_count": null,
   "metadata": {
    "ExecuteTime": {
     "end_time": "2017-11-04T23:44:26.474043Z",
     "start_time": "2017-11-04T23:44:26.155428Z"
    },
    "collapsed": true
   },
   "outputs": [],
   "source": [
    "train_writer.close()\n",
    "test_writer.close()\n",
    "writer.close()"
   ]
  },
  {
   "cell_type": "markdown",
   "metadata": {},
   "source": [
    "run: `tensorboard --logdir=$(pwd)/mnist_sample`  \n",
    "( or run: `./run_tensorboard_mnist_demo.sh` )"
   ]
  }
 ],
 "metadata": {
  "kernelspec": {
   "display_name": "Python 3",
   "language": "python",
   "name": "python3"
  },
  "language_info": {
   "codemirror_mode": {
    "name": "ipython",
    "version": 3
   },
   "file_extension": ".py",
   "mimetype": "text/x-python",
   "name": "python",
   "nbconvert_exporter": "python",
   "pygments_lexer": "ipython3",
   "version": "3.5.2"
  }
 },
 "nbformat": 4,
 "nbformat_minor": 2
}
